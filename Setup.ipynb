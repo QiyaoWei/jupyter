{
 "cells": [
  {
   "attachments": {},
   "cell_type": "markdown",
   "id": "c508a642",
   "metadata": {},
   "source": [
    "<img src=\"./logistic.png\" alt=\"alt_text\" align=\"right\">\n",
    "<h1><left> Experiment data </left></h1>\n",
    "\n",
    "<left> 1. full batch gradient descent </left>\n",
    "\n",
    "<left> 2. I only learn K and P for the parametric model </left>"
   ]
  },
  {
   "attachments": {},
   "cell_type": "markdown",
   "id": "12dd17c0",
   "metadata": {},
   "source": [
    "<img src=\"./nn.svg\" alt=\"alt_text\" align=\"right\">\n",
    "<h1><left> Network </left></h1>\n",
    "\n",
    "<left> 1. same for fully connected and Neural ODE </left>\n",
    "\n",
    "<left> 2. activation functions are ELU </left>\n",
    "\n",
    "<left> 3. I believe <a href=\"https://pytorch.org/docs/stable/generated/torch.nn.Linear.html\">default initialization is uniform</a></left>"
   ]
  },
  {
   "cell_type": "markdown",
   "id": "0cc04d18",
   "metadata": {},
   "source": [
    "<h1><left>Training curves</left></h1>\n",
    "\n",
    "1. Neural ODE <img src=\"./trainode.png\" alt=\"alt_text\" width=\"200\">\n",
    "\n",
    "1. Fully connected <img src=\"./trainfc.png\" alt=\"alt_text\" width=\"200\">\n",
    "\n",
    "1. Parametric <img src=\"./trainparam.png\" alt=\"alt_text\" width=\"200\">\n",
    "\n",
    "<!-- 1.  Neural ODE <img src=\"./trainode.png\" alt=\"alt_text\" width=\"200\" align=\"right\">\n",
    "\n",
    "2.  Fully connected <img src=\"./trainfc.png\" alt=\"alt_text\" width=\"200\" align=\"right\">\n",
    "\n",
    "3.  Parametric <img src=\"./trainparam.png\" alt=\"alt_text\" width=\"200\" align=\"right\"> -->"
   ]
  },
  {
   "cell_type": "code",
   "execution_count": null,
   "id": "5421f701",
   "metadata": {},
   "outputs": [],
   "source": []
  }
 ],
 "metadata": {
  "kernelspec": {
   "display_name": "Python 3 (ipykernel)",
   "language": "python",
   "name": "python3"
  },
  "language_info": {
   "codemirror_mode": {
    "name": "ipython",
    "version": 3
   },
   "file_extension": ".py",
   "mimetype": "text/x-python",
   "name": "python",
   "nbconvert_exporter": "python",
   "pygments_lexer": "ipython3",
   "version": "3.9.12"
  }
 },
 "nbformat": 4,
 "nbformat_minor": 5
}
