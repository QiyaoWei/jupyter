{
  "metadata": {
    "kernelspec": {
      "name": "python",
      "display_name": "Python (Pyodide)",
      "language": "python"
    },
    "language_info": {
      "codemirror_mode": {
        "name": "python",
        "version": 3
      },
      "file_extension": ".py",
      "mimetype": "text/x-python",
      "name": "python",
      "nbconvert_exporter": "python",
      "pygments_lexer": "ipython3",
      "version": "3.8"
    }
  },
  "nbformat_minor": 5,
  "nbformat": 4,
  "cells": [
    {
      "cell_type": "code",
      "source": "import random\nimport numpy as np\n\ndef random_derangement(n):\n    while True:\n        v = [i for i in range(n)]\n        for j in range(n - 1, -1, -1):\n            p = random.randint(0, j)\n            if v[p] == j:\n                break\n            else:\n                v[j], v[p] = v[p], v[j]\n        else:\n            if v[0] != 0:\n                return tuple(v)",
      "metadata": {
        "trusted": true
      },
      "execution_count": 3,
      "outputs": [],
      "id": "3d06f092-0bac-421d-8487-7ec0e29a2ee0"
    },
    {
      "cell_type": "code",
      "source": "temp = random_derangement(30)\nnp.array(temp)",
      "metadata": {
        "trusted": true
      },
      "execution_count": 5,
      "outputs": [
        {
          "execution_count": 5,
          "output_type": "execute_result",
          "data": {
            "text/plain": "array([ 6, 12,  3,  2, 25,  4, 17, 14, 27,  1, 18, 29, 28, 10, 20, 23,  5,\n       11, 22, 16, 19, 24,  7,  0, 13,  8, 15,  9, 21, 26])"
          },
          "metadata": {}
        }
      ],
      "id": "e38f8490-13ee-46fd-96f6-a9731cff59fb"
    },
    {
      "cell_type": "code",
      "source": "temp = random_derangement(30)\nnp.array(temp)",
      "metadata": {
        "trusted": true
      },
      "execution_count": 6,
      "outputs": [
        {
          "execution_count": 6,
          "output_type": "execute_result",
          "data": {
            "text/plain": "array([12, 26, 22, 16, 25,  2, 11,  5, 20, 21, 29,  6, 18,  3,  8, 13, 10,\n       15, 28,  7,  9, 27, 24,  1, 19, 14,  0, 23, 17,  4])"
          },
          "metadata": {}
        }
      ],
      "id": "906c0b39-a129-48a2-85ae-a2659869f6e6"
    },
    {
      "cell_type": "code",
      "source": "",
      "metadata": {},
      "execution_count": null,
      "outputs": [],
      "id": "f3e05104-47ee-4136-9e10-86f5b02dde23"
    }
  ]
}